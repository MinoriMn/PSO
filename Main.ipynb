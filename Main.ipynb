{
 "cells": [
  {
   "cell_type": "markdown",
   "metadata": {},
   "source": [
    "# Main"
   ]
  },
  {
   "cell_type": "code",
   "execution_count": 1,
   "metadata": {},
   "outputs": [],
   "source": [
    "from ColorMap import *\n",
    "from tqdm import tqdm \n",
    "import pandas as pd\n",
    "import cv2\n",
    "import csv\n",
    "from PSO import *\n",
    "import os\n",
    "import copy"
   ]
  },
  {
   "cell_type": "code",
   "execution_count": 2,
   "metadata": {},
   "outputs": [],
   "source": [
    "# csvの書き出し\n",
    "def export_csv(filename, data):\n",
    "    with open(filename, 'w') as f:\n",
    "        writer = csv.writer(f)\n",
    "        for row in data:\n",
    "            writer.writerow(row)"
   ]
  },
  {
   "cell_type": "code",
   "execution_count": 3,
   "metadata": {},
   "outputs": [],
   "source": [
    "color_map =  ColorMap(griewank_function, [-6, 6], [-6, 6] ,400, 400)\n",
    "color_map.generate_coordinate()"
   ]
  },
  {
   "cell_type": "code",
   "execution_count": 4,
   "metadata": {},
   "outputs": [],
   "source": [
    "def init_learning(N, omega, c1, c2, D, up_lim, lo_lim, func):\n",
    "    pso = PSO(N, omega, c1, c2, D, up_lim, lo_lim, func)\n",
    "    pso.init_phase()\n",
    "    return pso\n",
    "\n",
    "def execute_learning(pso, G, filename_prefix):\n",
    "    os.makedirs('output/%s/images' % filename_prefix, exist_ok=True)\n",
    "    \n",
    "    evaluations_data = []\n",
    "    label = [\"pb%d_ev\" % i for i in range(N)]\n",
    "    label.append(\"gb_ev\")\n",
    "    evaluations_data.append(label)\n",
    "    \n",
    "    for g in tqdm(range(G)):\n",
    "        pso.solution_search_phase()\n",
    "        color_map.draw_map()\n",
    "        pd_xs = pd.DataFrame(pso.xs)\n",
    "        pd_pb = pd.DataFrame(pso.pb)\n",
    "        evs = copy.copy(pso.pb_evaluations)\n",
    "        evs.append(pso.func(*pso.gb))\n",
    "        evaluations_data.append(evs)\n",
    "        \n",
    "        color_map.draw_points(pd_xs[0], pd_xs[1], 'grey')   \n",
    "        color_map.draw_points(pd_pb[0], pd_pb[1], 'white')\n",
    "        color_map.draw_points([pso.gb[0]], [pso.gb[1]], 'orange')\n",
    "        plt.savefig('output/%s/images/img_%04d.png' % (filename_prefix, g))\n",
    "        \n",
    "    #結果出力(csv)\n",
    "    export_csv('csv/%s_best_eval.csv' % filename_prefix, evaluations_data)\n",
    "    \n",
    "    #結果出力(動画)\n",
    "    # encoder(for mp4)\n",
    "    fourcc = cv2.VideoWriter_fourcc('m', 'p', '4', 'v')\n",
    "    # output file name, encoder, fps, size(fit to image size)\n",
    "    video = cv2.VideoWriter('video/%s_video.mp4' % filename_prefix, fourcc, 20.0, (432, 288))\n",
    "    if not video.isOpened():\n",
    "        print(\"can't be opened\")\n",
    "        exit()\n",
    "\n",
    "    for i in tqdm(range(0, G)):\n",
    "        # hoge0000.png, hoge0001.png,..., hoge0090.png\n",
    "        img = cv2.imread('output/%s/images/img_%04d.png' % (filename_prefix, i))\n",
    "\n",
    "        # can't read image, escape\n",
    "        if img is None:\n",
    "            print(\"can't read\")\n",
    "            break\n",
    "\n",
    "        # add\n",
    "        video.write(img)\n",
    "    #     print(\"read image \" + str(i))\n",
    "\n",
    "    video.release()\n",
    "    print('written')"
   ]
  },
  {
   "cell_type": "code",
   "execution_count": 5,
   "metadata": {},
   "outputs": [
    {
     "name": "stderr",
     "output_type": "stream",
     "text": [
      "100%|██████████| 100/100 [00:23<00:00,  4.28it/s]\n",
      "100%|██████████| 100/100 [00:00<00:00, 291.76it/s]\n",
      "  0%|          | 0/100 [00:00<?, ?it/s]"
     ]
    },
    {
     "name": "stdout",
     "output_type": "stream",
     "text": [
      "written\n",
      "finished N50G100_o0d8_cp2d7_cg0d9_0\n"
     ]
    },
    {
     "name": "stderr",
     "output_type": "stream",
     "text": [
      "100%|██████████| 100/100 [00:24<00:00,  4.16it/s]\n",
      "100%|██████████| 100/100 [00:00<00:00, 271.30it/s]\n",
      "  0%|          | 0/100 [00:00<?, ?it/s]"
     ]
    },
    {
     "name": "stdout",
     "output_type": "stream",
     "text": [
      "written\n",
      "finished N50G100_o0d8_cp2d7_cg0d9_1\n"
     ]
    },
    {
     "name": "stderr",
     "output_type": "stream",
     "text": [
      "100%|██████████| 100/100 [00:23<00:00,  4.27it/s]\n",
      "100%|██████████| 100/100 [00:00<00:00, 290.04it/s]\n",
      "  0%|          | 0/100 [00:00<?, ?it/s]"
     ]
    },
    {
     "name": "stdout",
     "output_type": "stream",
     "text": [
      "written\n",
      "finished N50G100_o0d8_cp2d7_cg0d9_2\n"
     ]
    },
    {
     "name": "stderr",
     "output_type": "stream",
     "text": [
      "100%|██████████| 100/100 [00:22<00:00,  4.42it/s]\n",
      "100%|██████████| 100/100 [00:00<00:00, 292.22it/s]\n",
      "  0%|          | 0/100 [00:00<?, ?it/s]"
     ]
    },
    {
     "name": "stdout",
     "output_type": "stream",
     "text": [
      "written\n",
      "finished N50G100_o0d8_cp2d7_cg0d9_3\n"
     ]
    },
    {
     "name": "stderr",
     "output_type": "stream",
     "text": [
      "100%|██████████| 100/100 [00:22<00:00,  4.43it/s]\n",
      "100%|██████████| 100/100 [00:00<00:00, 282.62it/s]\n",
      "  0%|          | 0/100 [00:00<?, ?it/s]"
     ]
    },
    {
     "name": "stdout",
     "output_type": "stream",
     "text": [
      "written\n",
      "finished N50G100_o0d8_cp2d7_cg0d9_4\n"
     ]
    },
    {
     "name": "stderr",
     "output_type": "stream",
     "text": [
      "100%|██████████| 100/100 [00:23<00:00,  4.34it/s]\n",
      "100%|██████████| 100/100 [00:00<00:00, 302.22it/s]\n",
      "  0%|          | 0/100 [00:00<?, ?it/s]"
     ]
    },
    {
     "name": "stdout",
     "output_type": "stream",
     "text": [
      "written\n",
      "finished N50G100_o0d8_cp0d9_cg2d7_0\n"
     ]
    },
    {
     "name": "stderr",
     "output_type": "stream",
     "text": [
      "100%|██████████| 100/100 [00:23<00:00,  4.28it/s]\n",
      "100%|██████████| 100/100 [00:00<00:00, 295.77it/s]\n",
      "  0%|          | 0/100 [00:00<?, ?it/s]"
     ]
    },
    {
     "name": "stdout",
     "output_type": "stream",
     "text": [
      "written\n",
      "finished N50G100_o0d8_cp0d9_cg2d7_1\n"
     ]
    },
    {
     "name": "stderr",
     "output_type": "stream",
     "text": [
      "100%|██████████| 100/100 [00:21<00:00,  4.71it/s]\n",
      "100%|██████████| 100/100 [00:00<00:00, 294.16it/s]\n",
      "  0%|          | 0/100 [00:00<?, ?it/s]"
     ]
    },
    {
     "name": "stdout",
     "output_type": "stream",
     "text": [
      "written\n",
      "finished N50G100_o0d8_cp0d9_cg2d7_2\n"
     ]
    },
    {
     "name": "stderr",
     "output_type": "stream",
     "text": [
      "100%|██████████| 100/100 [00:21<00:00,  4.72it/s]\n",
      "100%|██████████| 100/100 [00:00<00:00, 290.66it/s]\n",
      "  0%|          | 0/100 [00:00<?, ?it/s]"
     ]
    },
    {
     "name": "stdout",
     "output_type": "stream",
     "text": [
      "written\n",
      "finished N50G100_o0d8_cp0d9_cg2d7_3\n"
     ]
    },
    {
     "name": "stderr",
     "output_type": "stream",
     "text": [
      "100%|██████████| 100/100 [00:22<00:00,  4.47it/s]\n",
      "100%|██████████| 100/100 [00:00<00:00, 245.88it/s]\n",
      "  0%|          | 0/100 [00:00<?, ?it/s]"
     ]
    },
    {
     "name": "stdout",
     "output_type": "stream",
     "text": [
      "written\n",
      "finished N50G100_o0d8_cp0d9_cg2d7_4\n"
     ]
    },
    {
     "name": "stderr",
     "output_type": "stream",
     "text": [
      "100%|██████████| 100/100 [00:25<00:00,  3.99it/s]\n",
      "100%|██████████| 100/100 [00:00<00:00, 284.12it/s]\n",
      "  0%|          | 0/100 [00:00<?, ?it/s]"
     ]
    },
    {
     "name": "stdout",
     "output_type": "stream",
     "text": [
      "written\n",
      "finished N20G100_o0d8_cp2d7_cg0d9_0\n"
     ]
    },
    {
     "name": "stderr",
     "output_type": "stream",
     "text": [
      "100%|██████████| 100/100 [00:21<00:00,  4.58it/s]\n",
      "100%|██████████| 100/100 [00:00<00:00, 301.01it/s]\n",
      "  0%|          | 0/100 [00:00<?, ?it/s]"
     ]
    },
    {
     "name": "stdout",
     "output_type": "stream",
     "text": [
      "written\n",
      "finished N20G100_o0d8_cp2d7_cg0d9_1\n"
     ]
    },
    {
     "name": "stderr",
     "output_type": "stream",
     "text": [
      "100%|██████████| 100/100 [00:24<00:00,  4.16it/s]\n",
      "100%|██████████| 100/100 [00:00<00:00, 279.85it/s]\n",
      "  0%|          | 0/100 [00:00<?, ?it/s]"
     ]
    },
    {
     "name": "stdout",
     "output_type": "stream",
     "text": [
      "written\n",
      "finished N20G100_o0d8_cp2d7_cg0d9_2\n"
     ]
    },
    {
     "name": "stderr",
     "output_type": "stream",
     "text": [
      "100%|██████████| 100/100 [00:21<00:00,  4.65it/s]\n",
      "100%|██████████| 100/100 [00:00<00:00, 283.24it/s]\n",
      "  0%|          | 0/100 [00:00<?, ?it/s]"
     ]
    },
    {
     "name": "stdout",
     "output_type": "stream",
     "text": [
      "written\n",
      "finished N20G100_o0d8_cp2d7_cg0d9_3\n"
     ]
    },
    {
     "name": "stderr",
     "output_type": "stream",
     "text": [
      "100%|██████████| 100/100 [00:21<00:00,  4.66it/s]\n",
      "100%|██████████| 100/100 [00:00<00:00, 302.57it/s]\n",
      "  0%|          | 0/100 [00:00<?, ?it/s]"
     ]
    },
    {
     "name": "stdout",
     "output_type": "stream",
     "text": [
      "written\n",
      "finished N20G100_o0d8_cp2d7_cg0d9_4\n"
     ]
    },
    {
     "name": "stderr",
     "output_type": "stream",
     "text": [
      "100%|██████████| 100/100 [00:24<00:00,  4.08it/s]\n",
      "100%|██████████| 100/100 [00:00<00:00, 268.74it/s]\n",
      "  0%|          | 0/100 [00:00<?, ?it/s]"
     ]
    },
    {
     "name": "stdout",
     "output_type": "stream",
     "text": [
      "written\n",
      "finished N20G100_o0d8_cp0d9_cg2d7_0\n"
     ]
    },
    {
     "name": "stderr",
     "output_type": "stream",
     "text": [
      "100%|██████████| 100/100 [00:21<00:00,  4.65it/s]\n",
      "100%|██████████| 100/100 [00:00<00:00, 272.87it/s]\n",
      "  0%|          | 0/100 [00:00<?, ?it/s]"
     ]
    },
    {
     "name": "stdout",
     "output_type": "stream",
     "text": [
      "written\n",
      "finished N20G100_o0d8_cp0d9_cg2d7_1\n"
     ]
    },
    {
     "name": "stderr",
     "output_type": "stream",
     "text": [
      "100%|██████████| 100/100 [00:21<00:00,  4.63it/s]\n",
      "100%|██████████| 100/100 [00:00<00:00, 274.99it/s]\n",
      "  0%|          | 0/100 [00:00<?, ?it/s]"
     ]
    },
    {
     "name": "stdout",
     "output_type": "stream",
     "text": [
      "written\n",
      "finished N20G100_o0d8_cp0d9_cg2d7_2\n"
     ]
    },
    {
     "name": "stderr",
     "output_type": "stream",
     "text": [
      "100%|██████████| 100/100 [00:21<00:00,  4.65it/s]\n",
      "100%|██████████| 100/100 [00:00<00:00, 281.40it/s]\n",
      "  0%|          | 0/100 [00:00<?, ?it/s]"
     ]
    },
    {
     "name": "stdout",
     "output_type": "stream",
     "text": [
      "written\n",
      "finished N20G100_o0d8_cp0d9_cg2d7_3\n"
     ]
    },
    {
     "name": "stderr",
     "output_type": "stream",
     "text": [
      "100%|██████████| 100/100 [00:26<00:00,  3.83it/s]\n",
      "100%|██████████| 100/100 [00:00<00:00, 298.95it/s]\n",
      "  0%|          | 0/100 [00:00<?, ?it/s]"
     ]
    },
    {
     "name": "stdout",
     "output_type": "stream",
     "text": [
      "written\n",
      "finished N20G100_o0d8_cp0d9_cg2d7_4\n"
     ]
    },
    {
     "name": "stderr",
     "output_type": "stream",
     "text": [
      "100%|██████████| 100/100 [00:30<00:00,  3.26it/s]\n",
      "100%|██████████| 100/100 [00:00<00:00, 205.01it/s]\n",
      "  0%|          | 0/100 [00:00<?, ?it/s]"
     ]
    },
    {
     "name": "stdout",
     "output_type": "stream",
     "text": [
      "written\n",
      "finished N20G100_o0d2_cp1d8_cg0d6_0\n"
     ]
    },
    {
     "name": "stderr",
     "output_type": "stream",
     "text": [
      "100%|██████████| 100/100 [00:37<00:00,  2.66it/s]\n",
      "100%|██████████| 100/100 [00:00<00:00, 233.90it/s]\n",
      "  0%|          | 0/100 [00:00<?, ?it/s]"
     ]
    },
    {
     "name": "stdout",
     "output_type": "stream",
     "text": [
      "written\n",
      "finished N20G100_o0d2_cp1d8_cg0d6_1\n"
     ]
    },
    {
     "name": "stderr",
     "output_type": "stream",
     "text": [
      "100%|██████████| 100/100 [00:34<00:00,  2.90it/s]\n",
      "100%|██████████| 100/100 [00:00<00:00, 185.71it/s]\n",
      "  0%|          | 0/100 [00:00<?, ?it/s]"
     ]
    },
    {
     "name": "stdout",
     "output_type": "stream",
     "text": [
      "written\n",
      "finished N20G100_o0d2_cp1d8_cg0d6_2\n"
     ]
    },
    {
     "name": "stderr",
     "output_type": "stream",
     "text": [
      "100%|██████████| 100/100 [00:38<00:00,  2.62it/s]\n",
      "100%|██████████| 100/100 [00:00<00:00, 307.13it/s]\n",
      "  0%|          | 0/100 [00:00<?, ?it/s]"
     ]
    },
    {
     "name": "stdout",
     "output_type": "stream",
     "text": [
      "written\n",
      "finished N20G100_o0d2_cp1d8_cg0d6_3\n"
     ]
    },
    {
     "name": "stderr",
     "output_type": "stream",
     "text": [
      "100%|██████████| 100/100 [00:18<00:00,  5.34it/s]\n",
      "100%|██████████| 100/100 [00:00<00:00, 326.69it/s]\n",
      "  0%|          | 0/100 [00:00<?, ?it/s]"
     ]
    },
    {
     "name": "stdout",
     "output_type": "stream",
     "text": [
      "written\n",
      "finished N20G100_o0d2_cp1d8_cg0d6_4\n"
     ]
    },
    {
     "name": "stderr",
     "output_type": "stream",
     "text": [
      "100%|██████████| 100/100 [00:17<00:00,  5.57it/s]\n",
      "100%|██████████| 100/100 [00:00<00:00, 344.00it/s]\n",
      "  1%|          | 1/100 [00:00<00:14,  6.76it/s]"
     ]
    },
    {
     "name": "stdout",
     "output_type": "stream",
     "text": [
      "written\n",
      "finished N20G100_o0d2_cp0d6_cg1d8_0\n"
     ]
    },
    {
     "name": "stderr",
     "output_type": "stream",
     "text": [
      "100%|██████████| 100/100 [00:20<00:00,  4.91it/s]\n",
      "100%|██████████| 100/100 [00:00<00:00, 301.90it/s]\n",
      "  0%|          | 0/100 [00:00<?, ?it/s]"
     ]
    },
    {
     "name": "stdout",
     "output_type": "stream",
     "text": [
      "written\n",
      "finished N20G100_o0d2_cp0d6_cg1d8_1\n"
     ]
    },
    {
     "name": "stderr",
     "output_type": "stream",
     "text": [
      "100%|██████████| 100/100 [00:28<00:00,  3.53it/s]\n",
      "100%|██████████| 100/100 [00:00<00:00, 220.26it/s]\n",
      "  0%|          | 0/100 [00:00<?, ?it/s]"
     ]
    },
    {
     "name": "stdout",
     "output_type": "stream",
     "text": [
      "written\n",
      "finished N20G100_o0d2_cp0d6_cg1d8_2\n"
     ]
    },
    {
     "name": "stderr",
     "output_type": "stream",
     "text": [
      "100%|██████████| 100/100 [00:34<00:00,  2.87it/s]\n",
      "100%|██████████| 100/100 [00:00<00:00, 257.71it/s]\n",
      "  0%|          | 0/100 [00:00<?, ?it/s]"
     ]
    },
    {
     "name": "stdout",
     "output_type": "stream",
     "text": [
      "written\n",
      "finished N20G100_o0d2_cp0d6_cg1d8_3\n"
     ]
    },
    {
     "name": "stderr",
     "output_type": "stream",
     "text": [
      "100%|██████████| 100/100 [00:39<00:00,  2.53it/s]\n",
      "100%|██████████| 100/100 [00:00<00:00, 234.60it/s]\n"
     ]
    },
    {
     "name": "stdout",
     "output_type": "stream",
     "text": [
      "written\n",
      "finished N20G100_o0d2_cp0d6_cg1d8_4\n"
     ]
    },
    {
     "data": {
      "image/png": "[encoded data removed]",
      "text/plain": [
       "<Figure size 432x288 with 2 Axes>"
      ]
     },
     "metadata": {
      "needs_background": "light"
     },
     "output_type": "display_data"
    }
   ],
   "source": [
    "N = 20\n",
    "G = 30\n",
    "omega = 0.8\n",
    "c1 = 2.6\n",
    "c2 = 1.0\n",
    "D = 2\n",
    "up_lim = 5.0\n",
    "lo_lim = -5.0\n",
    "func = griewank_function\n",
    "parameters = [\n",
    "    {'N' : 50, 'G' : 100, 'omega' : 0.8, 'c1' : 2.7, 'c2' : 0.9, 'D' : 2, 'up_lim' : 5.0, 'lo_lim' : -5.0, 'func' : griewank_function, 'filename_prefix' : ''},\n",
    "    {'N' : 50, 'G' : 100, 'omega' : 0.8, 'c1' : 0.9, 'c2' : 2.7, 'D' : 2, 'up_lim' : 5.0, 'lo_lim' : -5.0, 'func' : griewank_function, 'filename_prefix' : ''},\n",
    "    {'N' : 20, 'G' : 100, 'omega' : 0.8, 'c1' : 2.7, 'c2' : 0.9, 'D' : 2, 'up_lim' : 5.0, 'lo_lim' : -5.0, 'func' : griewank_function, 'filename_prefix' : ''},\n",
    "    {'N' : 20, 'G' : 100, 'omega' : 0.8, 'c1' : 0.9, 'c2' : 2.7, 'D' : 2, 'up_lim' : 5.0, 'lo_lim' : -5.0, 'func' : griewank_function, 'filename_prefix' : ''},\n",
    "    {'N' : 20, 'G' : 100, 'omega' : 0.2, 'c1' : 1.8, 'c2' : 0.6, 'D' : 2, 'up_lim' : 5.0, 'lo_lim' : -5.0, 'func' : griewank_function, 'filename_prefix' : ''},\n",
    "    {'N' : 20, 'G' : 100, 'omega' : 0.2, 'c1' : 0.6, 'c2' : 1.8, 'D' : 2, 'up_lim' : 5.0, 'lo_lim' : -5.0, 'func' : griewank_function, 'filename_prefix' : ''}\n",
    "]\n",
    "\n",
    "\n",
    "for p in parameters:\n",
    "    for i in range(5):\n",
    "        p['filename_prefix'] = 'N%dG%d_o%s_cp%s_cg%s_%d' % (p['N'], p['G'], str(p['omega']).replace('.', 'd'), str(p['c1']).replace('.', 'd'), str(p['c2']).replace('.', 'd'), i)\n",
    "        pso = init_learning(p['N'],  p['omega'], p['c1'], p['c2'], p['D'], p['up_lim'], p['lo_lim'], p['func'])\n",
    "        execute_learning(pso, p['G'], p['filename_prefix'])\n",
    "        print('finished ' + p['filename_prefix'])"
   ]
  },
  {
   "cell_type": "code",
   "execution_count": null,
   "metadata": {},
   "outputs": [],
   "source": []
  }
 ],
 "metadata": {
  "kernelspec": {
   "display_name": "Python 3",
   "language": "python",
   "name": "python3"
  },
  "language_info": {
   "codemirror_mode": {
    "name": "ipython",
    "version": 3
   },
   "file_extension": ".py",
   "mimetype": "text/x-python",
   "name": "python",
   "nbconvert_exporter": "python",
   "pygments_lexer": "ipython3",
   "version": "3.7.4"
  }
 },
 "nbformat": 4,
 "nbformat_minor": 2
}
