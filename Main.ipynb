{
 "cells": [
  {
   "cell_type": "markdown",
   "metadata": {},
   "source": [
    "# Main"
   ]
  },
  {
   "cell_type": "code",
   "execution_count": 1,
   "metadata": {},
   "outputs": [
    {
     "name": "stdout",
     "output_type": "stream",
     "text": [
      "[[1, 0], [2, 3]]\n"
     ]
    }
   ],
   "source": [
    "from ColorMap import *\n",
    "from tqdm import tqdm \n",
    "import pandas as pd\n",
    "import cv2\n",
    "from PSO import *"
   ]
  },
  {
   "cell_type": "code",
   "execution_count": 6,
   "metadata": {},
   "outputs": [],
   "source": [
    "N = 20\n",
    "G = 50\n",
    "sum_g = 0 #合計世代数\n",
    "omega = 0.8\n",
    "c1 = 2.6\n",
    "c2 = 1.0\n",
    "D = 2\n",
    "up_lim = 5.0\n",
    "lo_lim = -5.0\n",
    "func = griewank_function\n",
    "pso = PSO(N, omega, c1, c2, D, up_lim, lo_lim, func)\n",
    "pso.init_phase()"
   ]
  },
  {
   "cell_type": "code",
   "execution_count": 7,
   "metadata": {},
   "outputs": [
    {
     "name": "stderr",
     "output_type": "stream",
     "text": [
      "100%|██████████| 50/50 [00:00<00:00, 2282.69it/s]\n"
     ]
    }
   ],
   "source": [
    "for g in tqdm(range(G)):\n",
    "    pso.solution_search_phase()"
   ]
  },
  {
   "cell_type": "code",
   "execution_count": null,
   "metadata": {},
   "outputs": [],
   "source": []
  }
 ],
 "metadata": {
  "kernelspec": {
   "display_name": "Python 3",
   "language": "python",
   "name": "python3"
  },
  "language_info": {
   "codemirror_mode": {
    "name": "ipython",
    "version": 3
   },
   "file_extension": ".py",
   "mimetype": "text/x-python",
   "name": "python",
   "nbconvert_exporter": "python",
   "pygments_lexer": "ipython3",
   "version": "3.7.4"
  }
 },
 "nbformat": 4,
 "nbformat_minor": 2
}
