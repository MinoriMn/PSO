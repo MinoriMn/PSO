{
 "cells": [
  {
   "cell_type": "code",
   "execution_count": 1,
   "metadata": {},
   "outputs": [],
   "source": [
    "import random\n",
    "import numpy as np\n",
    "import math"
   ]
  },
  {
   "cell_type": "code",
   "execution_count": 18,
   "metadata": {},
   "outputs": [],
   "source": [
    "class PSO:\n",
    "    # N個体数, omega速度に対する重み, c1 pBest方向に対する重み, c2 gBest方向に対する重み, D入力次元数, up/lo_lim上限, func評価関数\n",
    "    def __init__(self, N, omega, c1, c2, D, up_lim, lo_lim, func):\n",
    "        if omega < 0 or 1 <= omega:\n",
    "            print(\"ωは0≦ω<1の範囲で設定してください\")\n",
    "            return\n",
    "        if not(math.isclose(c1 + c2, 2.0 * omega + 2.0)):\n",
    "            print(\"c1 + c2 = 2ω + 2となるように設定してください\")\n",
    "            return\n",
    "        \n",
    "        self.N = N\n",
    "        self.omega = omega\n",
    "        self.c1 = c1\n",
    "        self.c2 = c2\n",
    "        self.D = D\n",
    "        self.up_lim = up_lim\n",
    "        self.lo_lim = lo_lim\n",
    "        self.func = func\n",
    "    \n",
    "    def init_phase(self, init_func = None):\n",
    "        # 初期集団生成\n",
    "        if init_func != None:\n",
    "            [self.xs, self.vs] = init_func(self.up_lim, self.lo_lim)\n",
    "        else:\n",
    "            self.xs = []\n",
    "            self.vs = []\n",
    "            r_range = [(self.up_lim  - self.lo_lim) * 0.02, (self.up_lim - self.lo_lim) * 0.1] #速度ベクトルの半径の範囲\n",
    "            for _ in range(self.N):\n",
    "                r = random.uniform(*r_range)\n",
    "                v = np.random.random(self.D) - 0.5\n",
    "                l = np.linalg.norm(v)\n",
    "                v = v / l * r\n",
    "                self.vs.append(v.tolist())\n",
    "                while True:\n",
    "                    x = [random.uniform(self.lo_lim, self.up_lim), random.uniform(self.lo_lim, self.up_lim)]\n",
    "                    x_dash = np.array(x) + v\n",
    "                    if (x_dash[0] < self.up_lim) and (x_dash[0] > self.lo_lim) and (x_dash[1] < self.up_lim) and (x_dash[1] > self.lo_lim):\n",
    "                        self.xs.append(x)\n",
    "                        break\n",
    "        self.xs = np.array(self.xs)\n",
    "        self.vs = np.array(self.vs)\n",
    "        \n",
    "        # 評価値算出\n",
    "        self.evaluations = [self.func(*x) for x in self.xs]\n",
    "        \n",
    "        #pbest初期化\n",
    "        self.pb = np.copy(self.xs)\n",
    "        \n",
    "        #gbest初期化\n",
    "        evaluation_min_val = min(self.evaluations)\n",
    "        evaluation_min_idx = self.evaluations.index(evaluation_min_val)\n",
    "        self.gb = self.pb[evaluation_min_idx]\n",
    "\n",
    "    def solution_search_phase(self):\n",
    "        pb_evaluations = []\n",
    "        for i in range(self.N):\n",
    "            #速度更新\n",
    "            self.vs[i] = self.omega * self.vs[i] + self.c1 * random.random() * (self.pb[i] - self.xs[i]) + self.c2 * random.random() * (self.gb - self.xs[i])\n",
    "            #位置更新\n",
    "            self.xs[i] = self.xs[i] + self.vs[i]\n",
    "            \n",
    "            self.evaluations[i] = self.func(*self.xs[i])\n",
    "            pb_evaluations.append(self.func(*self.pb[i]))\n",
    "            if self.evaluations[i] < pb_evaluations[i]:\n",
    "                self.pb[i] = self.xs[i]\n",
    "                \n",
    "        #gbest更新\n",
    "        evaluation_min_val = min(pb_evaluations)\n",
    "        evaluation_min_idx = pb_evaluations.index(evaluation_min_val)\n",
    "        if pb_evaluations[evaluation_min_idx] < self.func(*self.gb):\n",
    "            self.gb = self.pb[evaluation_min_idx]"
   ]
  },
  {
   "cell_type": "code",
   "execution_count": 19,
   "metadata": {},
   "outputs": [
    {
     "name": "stdout",
     "output_type": "stream",
     "text": [
      "[[1, 0], [2, 3]]\n"
     ]
    }
   ],
   "source": [
    "a = []\n",
    "a.append([1,0])\n",
    "a.append([2,3])\n",
    "print(a)"
   ]
  },
  {
   "cell_type": "code",
   "execution_count": null,
   "metadata": {},
   "outputs": [],
   "source": []
  }
 ],
 "metadata": {
  "kernelspec": {
   "display_name": "Python 3",
   "language": "python",
   "name": "python3"
  },
  "language_info": {
   "codemirror_mode": {
    "name": "ipython",
    "version": 3
   },
   "file_extension": ".py",
   "mimetype": "text/x-python",
   "name": "python",
   "nbconvert_exporter": "python",
   "pygments_lexer": "ipython3",
   "version": "3.7.4"
  }
 },
 "nbformat": 4,
 "nbformat_minor": 2
}
